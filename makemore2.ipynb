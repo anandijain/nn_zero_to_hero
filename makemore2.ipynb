{
 "cells": [
  {
   "cell_type": "code",
   "execution_count": 3,
   "metadata": {},
   "outputs": [],
   "source": [
    "import torch\n",
    "import matplotlib.pyplot as plt\n",
    "%matplotlib inline\n"
   ]
  },
  {
   "cell_type": "code",
   "execution_count": 10,
   "metadata": {},
   "outputs": [
    {
     "name": "stdout",
     "output_type": "stream",
     "text": [
      "{1: 'a', 2: 'b', 3: 'c', 4: 'd', 5: 'e', 6: 'f', 7: 'g', 8: 'h', 9: 'i', 10: 'j', 11: 'k', 12: 'l', 13: 'm', 14: 'n', 15: 'o', 16: 'p', 17: 'q', 18: 'r', 19: 's', 20: 't', 21: 'u', 22: 'v', 23: 'w', 24: 'x', 25: 'y', 26: 'z', 0: '.'}\n"
     ]
    }
   ],
   "source": [
    "words = open('names.txt', 'r').read().splitlines()\n",
    "# build the vocabulary of characters and mappings to/from integers\n",
    "chars = sorted(list(set(''.join(words))))\n",
    "stoi = {s:i+1 for i,s in enumerate(chars)}\n",
    "stoi['.'] = 0\n",
    "itos = {i:s for s,i in stoi.items()}\n",
    "print(itos)"
   ]
  },
  {
   "cell_type": "code",
   "execution_count": null,
   "metadata": {},
   "outputs": [],
   "source": [
    "# build the dataset\n",
    "\n",
    "block_size = 3 # context length: how many characters do we take to predict the next one?\n",
    "X, Y = [], []\n",
    "for w in words[:5]:\n",
    "  \n",
    "  #print(w)\n",
    "  context = [0] * block_size\n",
    "  for ch in w + '.':\n",
    "    ix = stoi[ch]\n",
    "    X.append(context)\n",
    "    Y.append(ix)\n",
    "    #print(''.join(itos[i] for i in context), '--->', itos[ix])\n",
    "    context = context[1:] + [ix] # crop and append\n",
    "    \n",
    "X = torch.tensor(X)\n",
    "Y = torch.tensor(Y)"
   ]
  },
  {
   "cell_type": "code",
   "execution_count": 12,
   "metadata": {},
   "outputs": [],
   "source": [
    "C = torch.randn(27, 2)"
   ]
  },
  {
   "cell_type": "code",
   "execution_count": 13,
   "metadata": {},
   "outputs": [
    {
     "data": {
      "text/plain": [
       "(tensor([[[-2.2494, -0.9791],\n",
       "          [-2.2494, -0.9791],\n",
       "          [-2.2494, -0.9791]],\n",
       " \n",
       "         [[-2.2494, -0.9791],\n",
       "          [-2.2494, -0.9791],\n",
       "          [-0.5192,  0.1319]],\n",
       " \n",
       "         [[-2.2494, -0.9791],\n",
       "          [-0.5192,  0.1319],\n",
       "          [-0.7216,  1.6499]],\n",
       " \n",
       "         [[-0.5192,  0.1319],\n",
       "          [-0.7216,  1.6499],\n",
       "          [-0.7216,  1.6499]],\n",
       " \n",
       "         [[-0.7216,  1.6499],\n",
       "          [-0.7216,  1.6499],\n",
       "          [ 0.2325, -1.9379]],\n",
       " \n",
       "         [[-2.2494, -0.9791],\n",
       "          [-2.2494, -0.9791],\n",
       "          [-2.2494, -0.9791]],\n",
       " \n",
       "         [[-2.2494, -0.9791],\n",
       "          [-2.2494, -0.9791],\n",
       "          [ 0.2062,  0.4357]],\n",
       " \n",
       "         [[-2.2494, -0.9791],\n",
       "          [ 0.2062,  0.4357],\n",
       "          [ 0.9032,  0.3080]],\n",
       " \n",
       "         [[ 0.2062,  0.4357],\n",
       "          [ 0.9032,  0.3080],\n",
       "          [ 1.0489,  0.4129]],\n",
       " \n",
       "         [[ 0.9032,  0.3080],\n",
       "          [ 1.0489,  0.4129],\n",
       "          [ 0.6527,  1.0434]],\n",
       " \n",
       "         [[ 1.0489,  0.4129],\n",
       "          [ 0.6527,  1.0434],\n",
       "          [ 1.0489,  0.4129]],\n",
       " \n",
       "         [[ 0.6527,  1.0434],\n",
       "          [ 1.0489,  0.4129],\n",
       "          [ 0.2325, -1.9379]],\n",
       " \n",
       "         [[-2.2494, -0.9791],\n",
       "          [-2.2494, -0.9791],\n",
       "          [-2.2494, -0.9791]],\n",
       " \n",
       "         [[-2.2494, -0.9791],\n",
       "          [-2.2494, -0.9791],\n",
       "          [ 0.2325, -1.9379]],\n",
       " \n",
       "         [[-2.2494, -0.9791],\n",
       "          [ 0.2325, -1.9379],\n",
       "          [ 0.6527,  1.0434]],\n",
       " \n",
       "         [[ 0.2325, -1.9379],\n",
       "          [ 0.6527,  1.0434],\n",
       "          [ 0.2325, -1.9379]],\n",
       " \n",
       "         [[-2.2494, -0.9791],\n",
       "          [-2.2494, -0.9791],\n",
       "          [-2.2494, -0.9791]],\n",
       " \n",
       "         [[-2.2494, -0.9791],\n",
       "          [-2.2494, -0.9791],\n",
       "          [ 1.0489,  0.4129]],\n",
       " \n",
       "         [[-2.2494, -0.9791],\n",
       "          [ 1.0489,  0.4129],\n",
       "          [ 0.3472,  0.0209]],\n",
       " \n",
       "         [[ 1.0489,  0.4129],\n",
       "          [ 0.3472,  0.0209],\n",
       "          [ 0.2325, -1.9379]],\n",
       " \n",
       "         [[ 0.3472,  0.0209],\n",
       "          [ 0.2325, -1.9379],\n",
       "          [-0.0606,  1.1215]],\n",
       " \n",
       "         [[ 0.2325, -1.9379],\n",
       "          [-0.0606,  1.1215],\n",
       "          [-0.5192,  0.1319]],\n",
       " \n",
       "         [[-0.0606,  1.1215],\n",
       "          [-0.5192,  0.1319],\n",
       "          [ 0.9032,  0.3080]],\n",
       " \n",
       "         [[-0.5192,  0.1319],\n",
       "          [ 0.9032,  0.3080],\n",
       "          [ 0.9032,  0.3080]],\n",
       " \n",
       "         [[ 0.9032,  0.3080],\n",
       "          [ 0.9032,  0.3080],\n",
       "          [ 0.2325, -1.9379]],\n",
       " \n",
       "         [[-2.2494, -0.9791],\n",
       "          [-2.2494, -0.9791],\n",
       "          [-2.2494, -0.9791]],\n",
       " \n",
       "         [[-2.2494, -0.9791],\n",
       "          [-2.2494, -0.9791],\n",
       "          [ 0.3472,  0.0209]],\n",
       " \n",
       "         [[-2.2494, -0.9791],\n",
       "          [ 0.3472,  0.0209],\n",
       "          [ 0.2062,  0.4357]],\n",
       " \n",
       "         [[ 0.3472,  0.0209],\n",
       "          [ 0.2062,  0.4357],\n",
       "          [-0.9805,  0.3198]],\n",
       " \n",
       "         [[ 0.2062,  0.4357],\n",
       "          [-0.9805,  0.3198],\n",
       "          [ 0.3770,  0.0131]],\n",
       " \n",
       "         [[-0.9805,  0.3198],\n",
       "          [ 0.3770,  0.0131],\n",
       "          [ 1.0489,  0.4129]],\n",
       " \n",
       "         [[ 0.3770,  0.0131],\n",
       "          [ 1.0489,  0.4129],\n",
       "          [ 0.2325, -1.9379]]]),\n",
       " torch.Size([32, 3, 2]))"
      ]
     },
     "execution_count": 13,
     "metadata": {},
     "output_type": "execute_result"
    }
   ],
   "source": [
    "C[X], C[X].shape"
   ]
  },
  {
   "cell_type": "code",
   "execution_count": 14,
   "metadata": {},
   "outputs": [
    {
     "data": {
      "text/plain": [
       "tensor([[-2.2494, -0.9791],\n",
       "        [-2.2494, -0.9791],\n",
       "        [-2.2494, -0.9791]])"
      ]
     },
     "execution_count": 14,
     "metadata": {},
     "output_type": "execute_result"
    }
   ],
   "source": [
    "C[X][0]"
   ]
  },
  {
   "cell_type": "code",
   "execution_count": 15,
   "metadata": {},
   "outputs": [],
   "source": [
    "emb = C[X]"
   ]
  },
  {
   "cell_type": "code",
   "execution_count": 17,
   "metadata": {},
   "outputs": [
    {
     "data": {
      "text/plain": [
       "tensor([[-2.2494, -0.9791],\n",
       "        [-2.2494, -0.9791],\n",
       "        [-2.2494, -0.9791]])"
      ]
     },
     "execution_count": 17,
     "metadata": {},
     "output_type": "execute_result"
    }
   ],
   "source": [
    "emb[0, :, :]"
   ]
  },
  {
   "cell_type": "code",
   "execution_count": 18,
   "metadata": {},
   "outputs": [],
   "source": [
    "W1 = torch.randn(6, 100)\n",
    "b1 = torch.randn(100)"
   ]
  },
  {
   "cell_type": "code",
   "execution_count": 22,
   "metadata": {},
   "outputs": [],
   "source": [
    "mm = emb.view(32, -1) @ W1 "
   ]
  },
  {
   "cell_type": "code",
   "execution_count": 23,
   "metadata": {},
   "outputs": [
    {
     "data": {
      "text/plain": [
       "tensor([[ 4.4816e+00,  3.0322e+00, -1.0248e+00,  ..., -4.3475e+00,\n",
       "         -1.5454e-01,  5.1007e-01],\n",
       "        [ 3.6016e+00,  2.2815e-01,  7.5726e-01,  ..., -2.1109e+00,\n",
       "          9.3125e-01, -1.1602e+00],\n",
       "        [ 2.8876e+00,  1.5782e+00,  6.9230e-01,  ..., -1.6618e+00,\n",
       "         -2.9186e-01,  4.1097e-01],\n",
       "        ...,\n",
       "        [ 9.6600e-01, -1.2498e+00,  4.1305e-01,  ...,  8.7004e-01,\n",
       "          7.9614e-01, -1.4231e+00],\n",
       "        [-3.1622e-03, -1.0624e+00, -5.1390e-01,  ..., -2.0925e-02,\n",
       "          2.6674e+00,  2.2476e-01],\n",
       "        [-2.6596e+00,  5.0515e-01, -2.9803e+00,  ..., -1.2360e+00,\n",
       "          1.1049e+00,  1.2850e+00]])"
      ]
     },
     "execution_count": 23,
     "metadata": {},
     "output_type": "execute_result"
    }
   ],
   "source": [
    "mm"
   ]
  },
  {
   "cell_type": "code",
   "execution_count": 24,
   "metadata": {},
   "outputs": [
    {
     "data": {
      "text/plain": [
       "torch.Size([32, 100])"
      ]
     },
     "execution_count": 24,
     "metadata": {},
     "output_type": "execute_result"
    }
   ],
   "source": [
    "mm.shape"
   ]
  },
  {
   "cell_type": "code",
   "execution_count": 27,
   "metadata": {},
   "outputs": [],
   "source": [
    "foo2 = mm[0] + b1"
   ]
  },
  {
   "cell_type": "code",
   "execution_count": 29,
   "metadata": {},
   "outputs": [
    {
     "data": {
      "text/plain": [
       "tensor(True)"
      ]
     },
     "execution_count": 29,
     "metadata": {},
     "output_type": "execute_result"
    }
   ],
   "source": [
    "((mm + b1)[0] == foo2).all()"
   ]
  },
  {
   "cell_type": "code",
   "execution_count": null,
   "metadata": {},
   "outputs": [],
   "source": []
  }
 ],
 "metadata": {
  "kernelspec": {
   "display_name": "Python 3",
   "language": "python",
   "name": "python3"
  },
  "language_info": {
   "codemirror_mode": {
    "name": "ipython",
    "version": 3
   },
   "file_extension": ".py",
   "mimetype": "text/x-python",
   "name": "python",
   "nbconvert_exporter": "python",
   "pygments_lexer": "ipython3",
   "version": "3.11.9"
  }
 },
 "nbformat": 4,
 "nbformat_minor": 2
}
